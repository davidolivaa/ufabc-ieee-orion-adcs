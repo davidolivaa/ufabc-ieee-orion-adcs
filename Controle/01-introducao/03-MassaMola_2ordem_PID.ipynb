{
  "nbformat": 4,
  "nbformat_minor": 0,
  "metadata": {
    "colab": {
      "name": "03-Sistema_MassaMola_PID.ipynb",
      "provenance": [],
      "collapsed_sections": []
    },
    "kernelspec": {
      "name": "python3",
      "display_name": "Python 3"
    },
    "language_info": {
      "name": "python"
    }
  },
  "cells": [
    {
      "cell_type": "code",
      "metadata": {
        "id": "h8se9n3yvcR7"
      },
      "source": [
        "#pip install control"
      ],
      "execution_count": 4,
      "outputs": []
    },
    {
      "cell_type": "code",
      "metadata": {
        "id": "is2Ex_8zKocc"
      },
      "source": [
        "#bibliotecas para o projeto\n",
        "import control as ctl\n",
        "import matplotlib.pyplot as plt\n",
        "import numpy as np"
      ],
      "execution_count": 9,
      "outputs": []
    },
    {
      "cell_type": "code",
      "metadata": {
        "id": "aTqN3L9jK95N",
        "colab": {
          "base_uri": "https://localhost:8080/"
        },
        "outputId": "9c8c57da-7a25-4024-dee3-8dd1d8b98be4"
      },
      "source": [
        "#criando a funçao de transferencia em malha aberta\n",
        "\n",
        "#variaveis de constante da mola, massa e constante de amortecimento\n",
        "km = 1.6; massa = 0.1; fv = 0.2\n",
        "\n",
        "#valores de wn e eta\n",
        "wn = np.sqrt(km/massa); eta = (fv/massa)/(2*wn) \n",
        "print('Wn e eta = ', [wn, eta])\n",
        "\n",
        "#vetores que serao os polinomios para a funçao de transferencia\n",
        "Tsim = 10 #vetor de tempo de simulaçao\n",
        "numerador = [1.]; denominador = [massa, fv, km] #\"1/tau\", \"1/tau + s\"\n",
        "print(\"{}, {}, {}\".format(Tsim, numerador, denominador))\n",
        "\n",
        "#usa os vetores para criar a funçao de transferencia em MA e imprimi ela\n",
        "P_s = ctl.tf(numerador, denominador)\n",
        "print('FT malha aberta:', P_s)"
      ],
      "execution_count": 7,
      "outputs": [
        {
          "output_type": "stream",
          "name": "stdout",
          "text": [
            "Wn e eta =  [4.0, 0.25]\n",
            "10, [1.0], [0.1, 0.2, 1.6]\n",
            "FT malha aberta: \n",
            "          1\n",
            "---------------------\n",
            "0.1 s^2 + 0.2 s + 1.6\n",
            "\n"
          ]
        }
      ]
    },
    {
      "cell_type": "code",
      "metadata": {
        "colab": {
          "base_uri": "https://localhost:8080/"
        },
        "id": "LO5PJFqBNGAk",
        "outputId": "9f66aa9a-49cc-4301-d2d9-618728cafb9c"
      },
      "source": [
        "#parametros da funçao de transferencia do controlador PID\n",
        "ki = 2*wn; kp = 10*wn; kd = 1*wn\n",
        "\n",
        "#cria a funçao do PID a partir dos polinomios\n",
        "C_s = ctl.tf([kd, kp, ki], [1., 0.]) \n",
        "print('FT controlador:', C_s)\n",
        "\n",
        "#funçao transferencia sensor unitario\n",
        "H_s = ctl.tf([1.], [1.])\n",
        "print('FT sensor:', H_s)\n",
        "\n",
        "#funçao de transferencia da malha fechada MF\n",
        "#G1_s = (C_s*P_s)/(1+C_s*P_s*H_s)\n",
        "G_s = ctl.series(C_s, P_s)\n",
        "G1_s = ctl.feedback(G_s, H_s, sign=-1)\n",
        "print('\\nFT malha fechada', G1_s)"
      ],
      "execution_count": 10,
      "outputs": [
        {
          "output_type": "stream",
          "name": "stdout",
          "text": [
            "FT controlador: \n",
            "4 s^2 + 40 s + 8\n",
            "----------------\n",
            "       s\n",
            "\n",
            "FT sensor: \n",
            "1\n",
            "-\n",
            "1\n",
            "\n",
            "\n",
            "FT malha fechada \n",
            "       4 s^2 + 40 s + 8\n",
            "------------------------------\n",
            "0.1 s^3 + 4.2 s^2 + 41.6 s + 8\n",
            "\n"
          ]
        }
      ]
    },
    {
      "cell_type": "code",
      "metadata": {
        "colab": {
          "base_uri": "https://localhost:8080/",
          "height": 295
        },
        "id": "8pNM7ArFOWdq",
        "outputId": "e25095ed-f9e1-43af-f6f9-39f30017d720"
      },
      "source": [
        "#calcula a resposta ao degrau em MA e MF\n",
        "T, yout = ctl.step_response(P_s, Tsim)\n",
        "T_mf, yout_mf = ctl.step_response(G1_s, Tsim) # retorna dois valores a partir dos parametros de funçao de transferencia e tempo\n",
        "plt.plot(T_mf, yout_mf, 'b-')\n",
        "plt.plot(T, yout, 'k-')\n",
        "\n",
        "#calcula um degrau unitario\n",
        "T2 = np.linspace(-1, Tsim, 1000) #cria um vetor de -0.2 ate Tsim com 1000 pontos entre eles\n",
        "degrau = np.ones_like(T2)\n",
        "degrau[T2<0] = 0\n",
        "plt.plot(T2, degrau, 'r-')\n",
        "\n",
        "#melhorando o grafico com titulo, nomes para os eixos e legenda\n",
        "plt.title(\"Circuito Elétrico em Malha Fechada\")\n",
        "plt.ylabel('V (V)'); plt.xlabel('Tempo (s)')\n",
        "plt.legend(['resposta em MF', 'resposta em MA', 'degrau unitario'])\n",
        "plt.grid()"
      ],
      "execution_count": 12,
      "outputs": [
        {
          "output_type": "display_data",
          "data": {
            "image/png": "[encoded data removed]",
            "text/plain": [
              "<Figure size 432x288 with 1 Axes>"
            ]
          },
          "metadata": {
            "needs_background": "light"
          }
        }
      ]
    }
  ]
}