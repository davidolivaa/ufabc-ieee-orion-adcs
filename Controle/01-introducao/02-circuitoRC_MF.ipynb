{
  "nbformat": 4,
  "nbformat_minor": 0,
  "metadata": {
    "colab": {
      "name": "02-circuitoRC_MF.ipynb",
      "provenance": [],
      "collapsed_sections": []
    },
    "kernelspec": {
      "name": "python3",
      "display_name": "Python 3"
    },
    "language_info": {
      "name": "python"
    }
  },
  "cells": [
    {
      "cell_type": "code",
      "metadata": {
        "id": "h8se9n3yvcR7",
        "colab": {
          "base_uri": "https://localhost:8080/"
        },
        "outputId": "8c108574-9049-4902-dec1-0207d5a499dd"
      },
      "source": [
        "#pip install control\n",
        "#baixa para o google colab e nao para a maquina"
      ],
      "execution_count": 4,
      "outputs": [
        {
          "output_type": "stream",
          "name": "stdout",
          "text": [
            "Collecting control\n",
            "  Downloading control-0.9.0.tar.gz (339 kB)\n",
            "\u001b[K     |████████████████████████████████| 339 kB 5.2 MB/s \n",
            "\u001b[?25hRequirement already satisfied: numpy in /usr/local/lib/python3.7/dist-packages (from control) (1.19.5)\n",
            "Requirement already satisfied: scipy in /usr/local/lib/python3.7/dist-packages (from control) (1.4.1)\n",
            "Requirement already satisfied: matplotlib in /usr/local/lib/python3.7/dist-packages (from control) (3.2.2)\n",
            "Requirement already satisfied: kiwisolver>=1.0.1 in /usr/local/lib/python3.7/dist-packages (from matplotlib->control) (1.3.1)\n",
            "Requirement already satisfied: pyparsing!=2.0.4,!=2.1.2,!=2.1.6,>=2.0.1 in /usr/local/lib/python3.7/dist-packages (from matplotlib->control) (2.4.7)\n",
            "Requirement already satisfied: python-dateutil>=2.1 in /usr/local/lib/python3.7/dist-packages (from matplotlib->control) (2.8.2)\n",
            "Requirement already satisfied: cycler>=0.10 in /usr/local/lib/python3.7/dist-packages (from matplotlib->control) (0.10.0)\n",
            "Requirement already satisfied: six in /usr/local/lib/python3.7/dist-packages (from cycler>=0.10->matplotlib->control) (1.15.0)\n",
            "Building wheels for collected packages: control\n",
            "  Building wheel for control (setup.py) ... \u001b[?25l\u001b[?25hdone\n",
            "  Created wheel for control: filename=control-0.9.0-py2.py3-none-any.whl size=344928 sha256=f1ecab7d8beb7334f1e2496a256dbb0f4a299c690ff29c03ecc1352f03deedb9\n",
            "  Stored in directory: /root/.cache/pip/wheels/5b/64/54/70faad181d7baff1184541ca00c9a2efa633acd0a811831d30\n",
            "Successfully built control\n",
            "Installing collected packages: control\n",
            "Successfully installed control-0.9.0\n"
          ]
        }
      ]
    },
    {
      "cell_type": "code",
      "metadata": {
        "id": "is2Ex_8zKocc"
      },
      "source": [
        "#bibliotexas para o projeto\n",
        "import control as ctl\n",
        "import matplotlib.pyplot as plt\n",
        "import numpy as np"
      ],
      "execution_count": 15,
      "outputs": []
    },
    {
      "cell_type": "code",
      "metadata": {
        "id": "aTqN3L9jK95N",
        "colab": {
          "base_uri": "https://localhost:8080/"
        },
        "outputId": "b2a1c461-ea93-4781-b2d5-97ea38031048"
      },
      "source": [
        "#variaveis de resistencia e capacitancia\n",
        "R = 20.0e3; C = 10.0e-6; tau = R*C\n",
        "\n",
        "#vetores que serao os polinomios para a funçao de transferencia\n",
        "Tsim = 1. #vetor de tempo de simulaçao\n",
        "numerador = [1/tau]; denominador = [1., 1/tau] #\"1/tau\", \"1/tau + s\"\n",
        "\n",
        "print(\"{}, {}, {}\".format(Tsim, numerador, denominador))"
      ],
      "execution_count": 17,
      "outputs": [
        {
          "output_type": "stream",
          "name": "stdout",
          "text": [
            "1.0, [5.0], [1.0, 5.0]\n"
          ]
        }
      ]
    },
    {
      "cell_type": "code",
      "metadata": {
        "colab": {
          "base_uri": "https://localhost:8080/"
        },
        "id": "LO5PJFqBNGAk",
        "outputId": "a0e43d70-ee49-4071-9e1b-f76cafe190fa"
      },
      "source": [
        "#Funçoes de transferencia\n",
        "\n",
        "#usa os vetores para criar a funçao de transferencia em MA e imprimi ela\n",
        "P_s = ctl.tf(numerador, denominador)\n",
        "print('FT malha aberta:', P_s)\n",
        "\n",
        "#funçao de transferencia do controlador\n",
        "C_s = ctl.tf([3.], [1.]) #mesmo o controlador tendo uma funçao constante/proporcional, nao conseguimos criar uma tf apenas com numerador, devemos colocar denominador mesmo que seja 1\n",
        "print('FT controlador:', C_s)\n",
        "\n",
        "#funçao transferencia sensor\n",
        "H_s = ctl.tf([1.], [1.])\n",
        "print('FT sensor:', H_s)\n",
        "\n",
        "#funçao de transferencia da malha fechada MF\n",
        "#G1_s = (C_s*P_s)/(1+P_s*C_s*H_s)\n",
        "G_s = ctl.series(C_s, P_s)\n",
        "G1_s = ctl.feedback(G_s, H_s, sign=-1)\n",
        "print('FT malha fechada', G1_s)"
      ],
      "execution_count": 31,
      "outputs": [
        {
          "output_type": "stream",
          "name": "stdout",
          "text": [
            "FT malha aberta: \n",
            "  5\n",
            "-----\n",
            "s + 5\n",
            "\n",
            "FT controlador: \n",
            "3\n",
            "-\n",
            "1\n",
            "\n",
            "FT sensor: \n",
            "1\n",
            "-\n",
            "1\n",
            "\n",
            "FT malha fechada \n",
            "  15\n",
            "------\n",
            "s + 20\n",
            "\n"
          ]
        }
      ]
    },
    {
      "cell_type": "code",
      "metadata": {
        "colab": {
          "base_uri": "https://localhost:8080/",
          "height": 295
        },
        "id": "8pNM7ArFOWdq",
        "outputId": "117f0224-58e5-4c33-c259-e07febd133e0"
      },
      "source": [
        "#calcula a resposta ao degrau\n",
        "T_mf, yout_mf = ctl.step_response(G1_s, Tsim) # retorna dois valores a partir dos parametros de funçao de transferencia e tempo\n",
        "plt.plot(T_mf, yout_mf, 'b-')\n",
        "\n",
        "#calcula um degrau unitario\n",
        "T2 = np.linspace(-0.2, Tsim, 1000) #cria um vetor de -0.2 ate Tsim com 1000 pontos entre eles\n",
        "degrau = np.ones_like(T2)\n",
        "degrau[T2<0] = 0\n",
        "plt.plot(T2, degrau, 'r-')\n",
        "\n",
        "#melhorando o grafico\n",
        "plt.title(\"Circuito Elétrico em Malha Fechada\")\n",
        "plt.ylabel('V (V)'); plt.xlabel('Tempo (s)')\n",
        "plt.legend(['resposta ao degrau', 'degrau unitario'])\n",
        "plt.grid()"
      ],
      "execution_count": 32,
      "outputs": [
        {
          "output_type": "display_data",
          "data": {
            "image/png": "[encoded data removed]",
            "text/plain": [
              "<Figure size 432x288 with 1 Axes>"
            ]
          },
          "metadata": {
            "needs_background": "light"
          }
        }
      ]
    }
  ]
}